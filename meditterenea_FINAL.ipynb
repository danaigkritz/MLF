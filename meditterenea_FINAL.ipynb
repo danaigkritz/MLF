{
  "metadata": {
    "kernelspec": {
      "name": "python3",
      "display_name": "Python 3"
    },
    "language_info": {
      "name": "python",
      "version": "3.11.11",
      "mimetype": "text/x-python",
      "codemirror_mode": {
        "name": "ipython",
        "version": 3
      },
      "pygments_lexer": "ipython3",
      "nbconvert_exporter": "python",
      "file_extension": ".py"
    },
    "accelerator": "GPU",
    "colab": {
      "gpuType": "T4",
      "provenance": [],
      "include_colab_link": true
    },
    "kaggle": {
      "accelerator": "none",
      "dataSources": [
        {
          "sourceId": 11513605,
          "sourceType": "datasetVersion",
          "datasetId": 7220060
        },
        {
          "sourceId": 11654280,
          "sourceType": "datasetVersion",
          "datasetId": 7313807
        }
      ],
      "isInternetEnabled": false,
      "language": "python",
      "sourceType": "notebook",
      "isGpuEnabled": false
    }
  },
  "nbformat_minor": 0,
  "nbformat": 4,
  "cells": [
    {
      "cell_type": "markdown",
      "metadata": {
        "id": "view-in-github",
        "colab_type": "text"
      },
      "source": [
        "<a href=\"https://colab.research.google.com/github/danaigkritz/MLF/blob/main/meditterenea_FINAL.ipynb\" target=\"_parent\"><img src=\"https://colab.research.google.com/assets/colab-badge.svg\" alt=\"Open In Colab\"/></a>"
      ]
    },
    {
      "cell_type": "code",
      "source": [
        "################\n",
        "#   Imports    #\n",
        "################\n",
        "!pip install keras_tuner\n",
        "!pip install tensorflow\n",
        "from sklearn.decomposition import PCA\n",
        "from sklearn.metrics import classification_report\n",
        "import matplotlib.patches as mpatches\n",
        "import pandas as pd\n",
        "import os\n",
        "import numpy as np\n",
        "from tensorflow.keras.preprocessing.image import ImageDataGenerator\n",
        "from sklearn.metrics import confusion_matrix, ConfusionMatrixDisplay\n",
        "import matplotlib.pyplot as plt\n",
        "from sklearn.model_selection import train_test_split\n",
        "import keras_tuner as kt\n",
        "from tensorflow.keras import layers, models\n",
        "from tensorflow.keras.optimizers import Adam, SGD, RMSprop\n",
        "from tensorflow.keras.callbacks import ReduceLROnPlateau\n",
        "from collections import Counter\n",
        "from tensorflow.keras.callbacks import EarlyStopping\n",
        "from tensorflow.keras.callbacks import Callback"
      ],
      "metadata": {
        "colab": {
          "base_uri": "https://localhost:8080/"
        },
        "id": "aJUp5T4Rl_d3",
        "outputId": "1dabe161-1296-4fea-e36b-e7108fc370fd",
        "trusted": true,
        "execution": {
          "iopub.status.busy": "2025-05-04T13:41:15.145421Z",
          "iopub.execute_input": "2025-05-04T13:41:15.145799Z",
          "iopub.status.idle": "2025-05-04T13:41:15.153068Z",
          "shell.execute_reply.started": "2025-05-04T13:41:15.145767Z",
          "shell.execute_reply": "2025-05-04T13:41:15.152092Z"
        }
      },
      "outputs": [
        {
          "output_type": "stream",
          "name": "stdout",
          "text": [
            "Requirement already satisfied: keras_tuner in /usr/local/lib/python3.11/dist-packages (1.4.7)\n",
            "Requirement already satisfied: keras in /usr/local/lib/python3.11/dist-packages (from keras_tuner) (3.8.0)\n",
            "Requirement already satisfied: packaging in /usr/local/lib/python3.11/dist-packages (from keras_tuner) (24.2)\n",
            "Requirement already satisfied: requests in /usr/local/lib/python3.11/dist-packages (from keras_tuner) (2.32.3)\n",
            "Requirement already satisfied: kt-legacy in /usr/local/lib/python3.11/dist-packages (from keras_tuner) (1.0.5)\n",
            "Requirement already satisfied: absl-py in /usr/local/lib/python3.11/dist-packages (from keras->keras_tuner) (1.4.0)\n",
            "Requirement already satisfied: numpy in /usr/local/lib/python3.11/dist-packages (from keras->keras_tuner) (2.0.2)\n",
            "Requirement already satisfied: rich in /usr/local/lib/python3.11/dist-packages (from keras->keras_tuner) (13.9.4)\n",
            "Requirement already satisfied: namex in /usr/local/lib/python3.11/dist-packages (from keras->keras_tuner) (0.0.9)\n",
            "Requirement already satisfied: h5py in /usr/local/lib/python3.11/dist-packages (from keras->keras_tuner) (3.13.0)\n",
            "Requirement already satisfied: optree in /usr/local/lib/python3.11/dist-packages (from keras->keras_tuner) (0.15.0)\n",
            "Requirement already satisfied: ml-dtypes in /usr/local/lib/python3.11/dist-packages (from keras->keras_tuner) (0.4.1)\n",
            "Requirement already satisfied: charset-normalizer<4,>=2 in /usr/local/lib/python3.11/dist-packages (from requests->keras_tuner) (3.4.1)\n",
            "Requirement already satisfied: idna<4,>=2.5 in /usr/local/lib/python3.11/dist-packages (from requests->keras_tuner) (3.10)\n",
            "Requirement already satisfied: urllib3<3,>=1.21.1 in /usr/local/lib/python3.11/dist-packages (from requests->keras_tuner) (2.4.0)\n",
            "Requirement already satisfied: certifi>=2017.4.17 in /usr/local/lib/python3.11/dist-packages (from requests->keras_tuner) (2025.4.26)\n",
            "Requirement already satisfied: typing-extensions>=4.5.0 in /usr/local/lib/python3.11/dist-packages (from optree->keras->keras_tuner) (4.13.2)\n",
            "Requirement already satisfied: markdown-it-py>=2.2.0 in /usr/local/lib/python3.11/dist-packages (from rich->keras->keras_tuner) (3.0.0)\n",
            "Requirement already satisfied: pygments<3.0.0,>=2.13.0 in /usr/local/lib/python3.11/dist-packages (from rich->keras->keras_tuner) (2.19.1)\n",
            "Requirement already satisfied: mdurl~=0.1 in /usr/local/lib/python3.11/dist-packages (from markdown-it-py>=2.2.0->rich->keras->keras_tuner) (0.1.2)\n",
            "Requirement already satisfied: tensorflow in /usr/local/lib/python3.11/dist-packages (2.18.0)\n",
            "Requirement already satisfied: absl-py>=1.0.0 in /usr/local/lib/python3.11/dist-packages (from tensorflow) (1.4.0)\n",
            "Requirement already satisfied: astunparse>=1.6.0 in /usr/local/lib/python3.11/dist-packages (from tensorflow) (1.6.3)\n",
            "Requirement already satisfied: flatbuffers>=24.3.25 in /usr/local/lib/python3.11/dist-packages (from tensorflow) (25.2.10)\n",
            "Requirement already satisfied: gast!=0.5.0,!=0.5.1,!=0.5.2,>=0.2.1 in /usr/local/lib/python3.11/dist-packages (from tensorflow) (0.6.0)\n",
            "Requirement already satisfied: google-pasta>=0.1.1 in /usr/local/lib/python3.11/dist-packages (from tensorflow) (0.2.0)\n",
            "Requirement already satisfied: libclang>=13.0.0 in /usr/local/lib/python3.11/dist-packages (from tensorflow) (18.1.1)\n",
            "Requirement already satisfied: opt-einsum>=2.3.2 in /usr/local/lib/python3.11/dist-packages (from tensorflow) (3.4.0)\n",
            "Requirement already satisfied: packaging in /usr/local/lib/python3.11/dist-packages (from tensorflow) (24.2)\n",
            "Requirement already satisfied: protobuf!=4.21.0,!=4.21.1,!=4.21.2,!=4.21.3,!=4.21.4,!=4.21.5,<6.0.0dev,>=3.20.3 in /usr/local/lib/python3.11/dist-packages (from tensorflow) (5.29.4)\n",
            "Requirement already satisfied: requests<3,>=2.21.0 in /usr/local/lib/python3.11/dist-packages (from tensorflow) (2.32.3)\n",
            "Requirement already satisfied: setuptools in /usr/local/lib/python3.11/dist-packages (from tensorflow) (75.2.0)\n",
            "Requirement already satisfied: six>=1.12.0 in /usr/local/lib/python3.11/dist-packages (from tensorflow) (1.17.0)\n",
            "Requirement already satisfied: termcolor>=1.1.0 in /usr/local/lib/python3.11/dist-packages (from tensorflow) (3.0.1)\n",
            "Requirement already satisfied: typing-extensions>=3.6.6 in /usr/local/lib/python3.11/dist-packages (from tensorflow) (4.13.2)\n",
            "Requirement already satisfied: wrapt>=1.11.0 in /usr/local/lib/python3.11/dist-packages (from tensorflow) (1.17.2)\n",
            "Requirement already satisfied: grpcio<2.0,>=1.24.3 in /usr/local/lib/python3.11/dist-packages (from tensorflow) (1.71.0)\n",
            "Requirement already satisfied: tensorboard<2.19,>=2.18 in /usr/local/lib/python3.11/dist-packages (from tensorflow) (2.18.0)\n",
            "Requirement already satisfied: keras>=3.5.0 in /usr/local/lib/python3.11/dist-packages (from tensorflow) (3.8.0)\n",
            "Requirement already satisfied: numpy<2.1.0,>=1.26.0 in /usr/local/lib/python3.11/dist-packages (from tensorflow) (2.0.2)\n",
            "Requirement already satisfied: h5py>=3.11.0 in /usr/local/lib/python3.11/dist-packages (from tensorflow) (3.13.0)\n",
            "Requirement already satisfied: ml-dtypes<0.5.0,>=0.4.0 in /usr/local/lib/python3.11/dist-packages (from tensorflow) (0.4.1)\n",
            "Requirement already satisfied: tensorflow-io-gcs-filesystem>=0.23.1 in /usr/local/lib/python3.11/dist-packages (from tensorflow) (0.37.1)\n",
            "Requirement already satisfied: wheel<1.0,>=0.23.0 in /usr/local/lib/python3.11/dist-packages (from astunparse>=1.6.0->tensorflow) (0.45.1)\n",
            "Requirement already satisfied: rich in /usr/local/lib/python3.11/dist-packages (from keras>=3.5.0->tensorflow) (13.9.4)\n",
            "Requirement already satisfied: namex in /usr/local/lib/python3.11/dist-packages (from keras>=3.5.0->tensorflow) (0.0.9)\n",
            "Requirement already satisfied: optree in /usr/local/lib/python3.11/dist-packages (from keras>=3.5.0->tensorflow) (0.15.0)\n",
            "Requirement already satisfied: charset-normalizer<4,>=2 in /usr/local/lib/python3.11/dist-packages (from requests<3,>=2.21.0->tensorflow) (3.4.1)\n",
            "Requirement already satisfied: idna<4,>=2.5 in /usr/local/lib/python3.11/dist-packages (from requests<3,>=2.21.0->tensorflow) (3.10)\n",
            "Requirement already satisfied: urllib3<3,>=1.21.1 in /usr/local/lib/python3.11/dist-packages (from requests<3,>=2.21.0->tensorflow) (2.4.0)\n",
            "Requirement already satisfied: certifi>=2017.4.17 in /usr/local/lib/python3.11/dist-packages (from requests<3,>=2.21.0->tensorflow) (2025.4.26)\n",
            "Requirement already satisfied: markdown>=2.6.8 in /usr/local/lib/python3.11/dist-packages (from tensorboard<2.19,>=2.18->tensorflow) (3.8)\n",
            "Requirement already satisfied: tensorboard-data-server<0.8.0,>=0.7.0 in /usr/local/lib/python3.11/dist-packages (from tensorboard<2.19,>=2.18->tensorflow) (0.7.2)\n",
            "Requirement already satisfied: werkzeug>=1.0.1 in /usr/local/lib/python3.11/dist-packages (from tensorboard<2.19,>=2.18->tensorflow) (3.1.3)\n",
            "Requirement already satisfied: MarkupSafe>=2.1.1 in /usr/local/lib/python3.11/dist-packages (from werkzeug>=1.0.1->tensorboard<2.19,>=2.18->tensorflow) (3.0.2)\n",
            "Requirement already satisfied: markdown-it-py>=2.2.0 in /usr/local/lib/python3.11/dist-packages (from rich->keras>=3.5.0->tensorflow) (3.0.0)\n",
            "Requirement already satisfied: pygments<3.0.0,>=2.13.0 in /usr/local/lib/python3.11/dist-packages (from rich->keras>=3.5.0->tensorflow) (2.19.1)\n",
            "Requirement already satisfied: mdurl~=0.1 in /usr/local/lib/python3.11/dist-packages (from markdown-it-py>=2.2.0->rich->keras>=3.5.0->tensorflow) (0.1.2)\n"
          ]
        }
      ],
      "execution_count": 66
    },
    {
      "cell_type": "code",
      "source": [
        "from google.colab import drive\n",
        "drive.mount('/content/drive')"
      ],
      "metadata": {
        "colab": {
          "base_uri": "https://localhost:8080/"
        },
        "id": "TCQ_dl9AkC7i",
        "outputId": "42db6550-8e32-4db6-e45d-c233e34b2660"
      },
      "execution_count": 67,
      "outputs": [
        {
          "output_type": "stream",
          "name": "stdout",
          "text": [
            "Drive already mounted at /content/drive; to attempt to forcibly remount, call drive.mount(\"/content/drive\", force_remount=True).\n"
          ]
        }
      ]
    },
    {
      "cell_type": "code",
      "source": [
        "################\n",
        "# Folder Paths #\n",
        "################\n",
        "test_folder = '/content/drive/MyDrive/Test'\n",
        "\n",
        "train_labels_file = '/content/drive/MyDrive/label_train.csv'\n",
        "\n",
        "train_folder = '/content/drive/MyDrive/Train'"
      ],
      "metadata": {
        "trusted": true,
        "execution": {
          "iopub.status.busy": "2025-05-04T13:41:15.193926Z",
          "iopub.execute_input": "2025-05-04T13:41:15.195225Z",
          "iopub.status.idle": "2025-05-04T13:41:15.200646Z",
          "shell.execute_reply.started": "2025-05-04T13:41:15.195175Z",
          "shell.execute_reply": "2025-05-04T13:41:15.199266Z"
        },
        "id": "xo2Y7ORqjqdz"
      },
      "outputs": [],
      "execution_count": 68
    },
    {
      "cell_type": "code",
      "source": [
        "####################################\n",
        "# Fumctions for data preprocessing #\n",
        "####################################\n",
        "\n",
        "def load_test_data(folder):\n",
        "    X_test = []\n",
        "    filenames = []\n",
        "    for file in os.listdir(folder):\n",
        "        if file.endswith('.npy'):\n",
        "            sample_id = int(file.replace('.npy', ''))\n",
        "            sample = np.load(os.path.join(folder, file))\n",
        "            X_test.append(sample)\n",
        "            filenames.append(sample_id)\n",
        "    X_test = np.array(X_test)\n",
        "    filenames = np.array(filenames)\n",
        "    return X_test, filenames\n",
        "\n",
        "def load_train_data(df, folder):\n",
        "    X = []\n",
        "    y = []\n",
        "    for idx, row in df.iterrows():\n",
        "        sample_id = row['ID']\n",
        "        label = row['target']\n",
        "        sample = np.load(os.path.join(folder, f\"{sample_id}.npy\"))\n",
        "        X.append(sample)\n",
        "        y.append(label)\n",
        "    X = np.array(X)\n",
        "    y = np.array(y)\n",
        "    return X, y"
      ],
      "metadata": {
        "trusted": true,
        "execution": {
          "iopub.status.busy": "2025-05-04T13:41:15.215826Z",
          "iopub.execute_input": "2025-05-04T13:41:15.216289Z",
          "iopub.status.idle": "2025-05-04T13:41:15.227417Z",
          "shell.execute_reply.started": "2025-05-04T13:41:15.216245Z",
          "shell.execute_reply": "2025-05-04T13:41:15.226113Z"
        },
        "id": "hClZiV-yjqd0"
      },
      "outputs": [],
      "execution_count": 69
    },
    {
      "cell_type": "code",
      "source": [
        "####################################\n",
        "# Functions for data visualization #\n",
        "####################################\n",
        "\n",
        "def count_target_values(csv_file):\n",
        "    try:\n",
        "        # Read the CSV file\n",
        "        df = pd.read_csv(csv_file)\n",
        "\n",
        "        # Check if 'target' column exists\n",
        "        if 'target' not in df.columns:\n",
        "            print(\"The 'target' column was not found in the file.\")\n",
        "            return\n",
        "\n",
        "        # Count the occurrences of each unique value in 'target'\n",
        "        value_counts = df['target'].value_counts()\n",
        "\n",
        "        # Print the results\n",
        "        print(\"Counts of each unique value in 'target':\")\n",
        "        print(value_counts)\n",
        "\n",
        "        return value_counts.to_dict()\n",
        "\n",
        "    except FileNotFoundError:\n",
        "        print(f\"File '{csv_file}' not found.\")\n",
        "    except Exception as e:\n",
        "        print(f\"An error occurred: {e}\")\n",
        "\n",
        "def plot_pca_projection(X, y, class_names=None, n_components=2, figsize=(8, 6)):\n",
        "    \"\"\"\n",
        "    Plots a PCA projection of image data.\n",
        "\n",
        "    Parameters:\n",
        "        X (numpy.ndarray): Image data of shape (n_samples, height, width, channels).\n",
        "        y (numpy.ndarray): Labels of shape (n_samples,).\n",
        "        class_names (dict): Optional mapping from class indices to names.\n",
        "        n_components (int): Number of PCA components to project (default=2).\n",
        "        figsize (tuple): Size of the plot (default=(8, 6)).\n",
        "    \"\"\"\n",
        "    # Flatten images to 2D for PCA\n",
        "    X_flat = X.reshape(X.shape[0], -1)\n",
        "\n",
        "    # Fit PCA and transform\n",
        "    pca = PCA(n_components=n_components)\n",
        "    X_pca = pca.fit_transform(X_flat)\n",
        "\n",
        "    # Plot\n",
        "    plt.figure(figsize=figsize)\n",
        "    scatter = plt.scatter(X_pca[:, 0], X_pca[:, 1], c=y, cmap='Set1', s=30)\n",
        "    plt.title(\"PCA Projection of Image Data\")\n",
        "    plt.xlabel(\"Principal Component 1\")\n",
        "    plt.ylabel(\"Principal Component 2\")\n",
        "    plt.grid(True)\n",
        "\n",
        "    # Create custom legend\n",
        "    if class_names is None:\n",
        "        class_names = {label: f\"Class {label}\" for label in np.unique(y)}\n",
        "\n",
        "    colors = [scatter.cmap(scatter.norm(i)) for i in class_names.keys()]\n",
        "    patches = [mpatches.Patch(color=colors[i], label=class_names[i]) for i in class_names]\n",
        "\n",
        "    plt.legend(handles=patches, title='Class')\n",
        "    plt.show()\n",
        "\n",
        "\n",
        "def plot_sample_images_per_class(X, y, samples_per_class=5, cmap='gray'):\n",
        "    \"\"\"\n",
        "    Plots a grid of sample images for each class.\n",
        "\n",
        "    Parameters:\n",
        "    - X: array-like, shape (n_samples, height, width, channels)\n",
        "         Image data.\n",
        "    - y: array-like, shape (n_samples,)\n",
        "         Labels corresponding to the images.\n",
        "    - samples_per_class: int\n",
        "         Number of images to display per class.\n",
        "    - cmap: str\n",
        "         Color map to use for displaying images (default: 'gray').\n",
        "    \"\"\"\n",
        "    classes = np.unique(y)\n",
        "    plt.figure(figsize=(samples_per_class * 2, len(classes) * 2))\n",
        "\n",
        "    for idx, cls in enumerate(classes):\n",
        "        idxs = np.where(y == cls)[0][:samples_per_class]\n",
        "        for j, img_idx in enumerate(idxs):\n",
        "            plt_idx = idx * samples_per_class + j + 1\n",
        "            plt.subplot(len(classes), samples_per_class, plt_idx)\n",
        "            plt.imshow(X[img_idx], cmap=cmap)\n",
        "            plt.title(f\"Class {cls}\")\n",
        "            plt.axis('off')\n",
        "\n",
        "    plt.tight_layout()\n",
        "    plt.show()\n",
        "\n",
        "def plot_average_image_per_class(X, y, cmap='gray'):\n",
        "    \"\"\"\n",
        "    Plots the average image for each class.\n",
        "\n",
        "    Parameters:\n",
        "    - X: array-like, shape (n_samples, height, width, channels)\n",
        "         Image data.\n",
        "    - y: array-like, shape (n_samples,)\n",
        "         Labels corresponding to the images.\n",
        "    - cmap: str\n",
        "         Color map to use for displaying images (default: 'gray').\n",
        "    \"\"\"\n",
        "    classes = np.unique(y)\n",
        "    plt.figure(figsize=(len(classes) * 3, 3))\n",
        "\n",
        "    for idx, cls in enumerate(classes):\n",
        "        mean_img = X[y == cls].mean(axis=0)\n",
        "        plt.subplot(1, len(classes), idx + 1)\n",
        "        plt.imshow(mean_img, cmap=cmap)\n",
        "        plt.title(f\"Avg. Class {cls}\")\n",
        "        plt.axis('off')\n",
        "\n",
        "    plt.tight_layout()\n",
        "    plt.show()"
      ],
      "metadata": {
        "trusted": true,
        "execution": {
          "iopub.status.busy": "2025-05-04T13:41:15.240208Z",
          "iopub.execute_input": "2025-05-04T13:41:15.240959Z",
          "iopub.status.idle": "2025-05-04T13:41:15.257500Z",
          "shell.execute_reply.started": "2025-05-04T13:41:15.240924Z",
          "shell.execute_reply": "2025-05-04T13:41:15.256117Z"
        },
        "id": "YyvMeQFRjqd2"
      },
      "outputs": [],
      "execution_count": 70
    },
    {
      "cell_type": "code",
      "source": [
        "############################\n",
        "# Function model training  #\n",
        "############################\n",
        "\n",
        "def train_model_with_early_stopping(model, X_train, y_train, X_val, y_val, epochs=100, batch_size=5, class_weights={0: 1.0,1: 1.0,2: 1.0}, patience=20, min_delta=1e-7, reduce_lr_callback=None):\n",
        "    \"\"\"\n",
        "    Trains the model with early stopping and optional learning rate reduction.\n",
        "\n",
        "    Parameters:\n",
        "    - model (tensorflow.keras.Model): The compiled model to be trained.\n",
        "    - X_train (np.ndarray): Training input data.\n",
        "    - y_train (np.ndarray): Training labels.\n",
        "    - X_val (np.ndarray): Validation input data.\n",
        "    - y_val (np.ndarray): Validation labels.\n",
        "    - epochs (int): Number of epochs to train the model.\n",
        "    - batch_size (int): Batch size for training.\n",
        "    - class_weights (dict): Class weights for balancing classes.\n",
        "    - patience (int): Number of epochs with no improvement after which to stop.\n",
        "    - min_delta (float): Minimum change to qualify as an improvement for early stopping.\n",
        "    - reduce_lr_callback (callback, optional): A callback to reduce learning rate if necessary (e.g., ReduceLROnPlateau).\n",
        "\n",
        "    Returns:\n",
        "    - history: Training history object containing the loss and accuracy values for each epoch.\n",
        "    \"\"\"\n",
        "\n",
        "    # Define early stopping callback\n",
        "    early_stopping = EarlyStopping(\n",
        "        monitor='val_loss',        # Monitor validation loss\n",
        "        patience=patience,         # Number of epochs with no improvement after which to stop\n",
        "        min_delta=min_delta,       # Minimum change to qualify as improvement\n",
        "        restore_best_weights=True  # Restore model weights from the epoch with the best value of monitored metric\n",
        "    )\n",
        "\n",
        "    # Train the model with early stopping\n",
        "    history = model.fit(\n",
        "        X_train,\n",
        "        y_train,\n",
        "        validation_data=(X_val, y_val),\n",
        "        epochs=epochs,\n",
        "        batch_size=batch_size,\n",
        "        callbacks=[early_stopping, reduce_lr_callback] if reduce_lr_callback else [early_stopping],\n",
        "        class_weight=class_weights\n",
        "    )\n",
        "\n",
        "    plot_training(history)\n",
        "\n",
        "    # Print information about early stopping\n",
        "    if early_stopping.stopped_epoch > 0:\n",
        "        print(f\"Early stopping occurred at epoch {early_stopping.stopped_epoch + 1}\")\n",
        "        print(f\"Best epoch was {early_stopping.stopped_epoch + 1 - early_stopping.patience}\")\n",
        "    else:\n",
        "        print(\"Early stopping did not occur. All epochs were trained.\")\n",
        "\n",
        "    return model\n"
      ],
      "metadata": {
        "trusted": true,
        "execution": {
          "iopub.status.busy": "2025-05-04T13:41:15.278683Z",
          "iopub.execute_input": "2025-05-04T13:41:15.279137Z",
          "iopub.status.idle": "2025-05-04T13:41:15.290101Z",
          "shell.execute_reply.started": "2025-05-04T13:41:15.279104Z",
          "shell.execute_reply": "2025-05-04T13:41:15.288740Z"
        },
        "id": "VEx_4KK5jqd4"
      },
      "outputs": [],
      "execution_count": 71
    },
    {
      "cell_type": "code",
      "source": [
        "####################################\n",
        "# Functions for data augmentation  #\n",
        "####################################\n",
        "\n",
        "def prepare_data(X_train_original, y_train_original):\n",
        "    \"\"\"\n",
        "    Prepares the data by splitting into train, validation, and test sets, balancing the classes in the training set,\n",
        "    and applying augmentation for minority classes.\n",
        "\n",
        "    Parameters:\n",
        "    - X_train_original: The features of the training dataset.\n",
        "    - y_train_original: The labels of the training dataset.\n",
        "    - samples_per_class: The number of samples per class for validation and test sets.\n",
        "    - target_class_size: The number of samples per class in the training set after augmentation.\n",
        "\n",
        "    Returns:\n",
        "    - X_train, y_train, X_val, y_val, X_test_train, y_test_train: Prepared datasets.\n",
        "    \"\"\"\n",
        "\n",
        "    # Normalize (Preprocessing)\n",
        "    X = X_train_original / 255.0\n",
        "    y = y_train_original\n",
        "\n",
        "    y = np.array(y)\n",
        "    idx_0 = np.where(y == 0)[0]\n",
        "    idx_1 = np.where(y == 1)[0]\n",
        "    idx_2 = np.where(y == 2)[0]\n",
        "\n",
        "    X_0, y_0 = X[idx_0], y[idx_0]\n",
        "    X_1, y_1 = X[idx_1], y[idx_1]\n",
        "    X_2, y_2 = X[idx_2], y[idx_2]\n",
        "\n",
        "    # First split: train val(e.g. 80% train, 20% val)\n",
        "    X_train_0, X_val_0, y_train_0, y_val_0  = train_test_split(X_0, y_0, test_size=0.2, random_state=42)\n",
        "    X_train_1, X_val_1, y_train_1, y_val_1 = train_test_split(X_1, y_1, test_size=0.2, random_state=42)\n",
        "    X_train_2, X_val_2, y_train_2, y_val_2= train_test_split(X_2, y_2, test_size=0.2, random_state=42)\n",
        "\n",
        "    # Define augmentation function\n",
        "    def generate_augmented_data(datagen, X, y, num_augmented):\n",
        "        augmented_X, augmented_y = [], []\n",
        "        gen = datagen.flow(X, y, batch_size=1)\n",
        "        for _ in range(num_augmented):\n",
        "            x_aug, y_aug = next(gen)\n",
        "            augmented_X.append(x_aug[0])\n",
        "            augmented_y.append(y_aug[0])\n",
        "        return np.array(augmented_X), np.array(augmented_y)\n",
        "\n",
        "    # Augmentation parameters\n",
        "    datagen = ImageDataGenerator(\n",
        "        width_shift_range=0.1,\n",
        "        height_shift_range=0.05,\n",
        "        zoom_range=0.1,\n",
        "        fill_mode='nearest',\n",
        "        horizontal_flip=False,\n",
        "        vertical_flip=False\n",
        "    )\n",
        "\n",
        "\n",
        "    # Augment if necessary to match the target class size\n",
        "    target_class_size = len(X_train_0)\n",
        "    n_aug_1 = max(0, target_class_size - len(X_train_1))\n",
        "    n_aug_2 = max(0, target_class_size - len(X_train_2))\n",
        "\n",
        "    X_aug_1, y_aug_1 = generate_augmented_data(datagen, X_train_1, y_train_1, n_aug_1)\n",
        "    X_aug_2, y_aug_2 = generate_augmented_data(datagen, X_train_2, y_train_2, n_aug_2)\n",
        "\n",
        "    # Combine the augmented data with the training data\n",
        "    X_train = np.concatenate([X_train_0,X_train_1,X_train_2, X_aug_1, X_aug_2])\n",
        "    y_train = np.concatenate([y_train_0,y_train_1, y_train_2, y_aug_1, y_aug_2])\n",
        "\n",
        "    X_val = np.concatenate([X_val_0,X_val_1, X_val_2])\n",
        "    y_val = np.concatenate([y_val_0,y_val_1,y_val_2])\n",
        "\n",
        "    # Final checks\n",
        "    print(\"Train:\", X_train.shape, y_train.shape)\n",
        "    print(\"Val:\", X_val.shape, y_val.shape)\n",
        "\n",
        "    return X_train, y_train, X_val, y_val\n",
        "\n",
        "\n",
        "\n",
        "\n",
        "def print_class_distribution(*datasets, dataset_names=None):\n",
        "    \"\"\"\n",
        "    Prints the class distribution for each given label dataset.\n",
        "\n",
        "    Parameters:\n",
        "    - *datasets: list of np.ndarray\n",
        "        One or more label arrays (e.g. y_train, y_val, y_test)\n",
        "    - dataset_names: list of str (optional)\n",
        "        Names corresponding to each dataset for labeling output\n",
        "    \"\"\"\n",
        "    if dataset_names is None:\n",
        "        dataset_names = [f\"Dataset {i+1}\" for i in range(len(datasets))]\n",
        "\n",
        "    for y, name in zip(datasets, dataset_names):\n",
        "        unique, counts = np.unique(y, return_counts=True)\n",
        "        class_distribution = dict(zip(unique, counts))\n",
        "        print(f\"\\nFinal class distribution in {name}:\")\n",
        "        for cls, count in class_distribution.items():\n",
        "            print(f\"Class {cls}: {count} samples\")\n"
      ],
      "metadata": {
        "trusted": true,
        "execution": {
          "iopub.status.busy": "2025-05-04T13:41:15.332828Z",
          "iopub.execute_input": "2025-05-04T13:41:15.333229Z",
          "iopub.status.idle": "2025-05-04T13:41:15.352403Z",
          "shell.execute_reply.started": "2025-05-04T13:41:15.333200Z",
          "shell.execute_reply": "2025-05-04T13:41:15.351102Z"
        },
        "id": "z7zCcBoWjqd5"
      },
      "outputs": [],
      "execution_count": 72
    },
    {
      "cell_type": "code",
      "source": [
        "###########################################\n",
        "# Function for plotting training history  #\n",
        "###########################################\n",
        "\n",
        "def plot_training(history):\n",
        "    # Plot Loss\n",
        "    plt.figure(figsize=(12, 5))\n",
        "\n",
        "    # Loss plot\n",
        "    plt.subplot(1, 2, 1)\n",
        "    plt.plot(history.history['loss'], label='Train Loss')\n",
        "    plt.plot(history.history['val_loss'], label='Validation Loss')\n",
        "    plt.title('Loss Over Epochs')\n",
        "    plt.xlabel('Epochs')\n",
        "    plt.ylabel('Loss')\n",
        "    plt.legend()\n",
        "    plt.grid(True)\n",
        "\n",
        "    # Accuracy plot\n",
        "    plt.subplot(1, 2, 2)\n",
        "    plt.plot(history.history['accuracy'], label='Train Accuracy')\n",
        "    plt.plot(history.history['val_accuracy'], label='Validation Accuracy')\n",
        "    plt.title('Accuracy Over Epochs')\n",
        "    plt.xlabel('Epochs')\n",
        "    plt.ylabel('Accuracy')\n",
        "    plt.legend()\n",
        "    plt.grid(True)\n",
        "\n",
        "    plt.show()"
      ],
      "metadata": {
        "trusted": true,
        "execution": {
          "iopub.status.busy": "2025-05-04T13:41:15.353917Z",
          "iopub.execute_input": "2025-05-04T13:41:15.354446Z",
          "iopub.status.idle": "2025-05-04T13:41:15.380944Z",
          "shell.execute_reply.started": "2025-05-04T13:41:15.354415Z",
          "shell.execute_reply": "2025-05-04T13:41:15.379464Z"
        },
        "id": "6Dg79mEDjqd6"
      },
      "outputs": [],
      "execution_count": 73
    },
    {
      "cell_type": "code",
      "source": [
        "###########################################\n",
        "#   Function for analizing the results   #\n",
        "###########################################\n",
        "\n",
        "def find_most_confused_pair(predictions, threshold=0.99):\n",
        "    \"\"\"\n",
        "    Identifies the most common top-2 class pair among low-confidence predictions.\n",
        "\n",
        "    Parameters:\n",
        "    - predictions (np.ndarray): Array of predicted class probabilities (e.g., output from model.predict).\n",
        "    - threshold (float): Confidence threshold below which a prediction is considered \"not confident\".\n",
        "\n",
        "    Returns:\n",
        "    - most_common_pair (tuple): The most confused pair of classes.\n",
        "    - count (int): Number of times this pair occurred.\n",
        "    \"\"\"\n",
        "    not_confident_pairs = []\n",
        "\n",
        "    for pred in predictions:\n",
        "        if np.max(pred) < threshold:\n",
        "            top2 = tuple(sorted(np.argsort(pred)[-2:]))\n",
        "            not_confident_pairs.append(top2)\n",
        "\n",
        "    if not not_confident_pairs:\n",
        "        print(\"No low-confidence predictions found.\")\n",
        "        return None, 0\n",
        "\n",
        "    pair_counts = Counter(not_confident_pairs)\n",
        "    most_common_pair, count = pair_counts.most_common(1)[0]\n",
        "\n",
        "    print(f\"The two classes the model is most often confused between are: {most_common_pair} \"\n",
        "          f\"with {count} occurrences among low-confidence predictions.\")\n",
        "\n",
        "    return most_common_pair, count\n",
        "\n",
        "def plot_confusion_matrix(y_true, y_pred, labels=None, title=\"Confusion Matrix\", cmap=plt.cm.Blues):\n",
        "    \"\"\"\n",
        "    Plots a confusion matrix using true and predicted labels.\n",
        "\n",
        "    Parameters:\n",
        "    - y_true (array-like): True class labels.\n",
        "    - y_pred (array-like): Predicted class labels.\n",
        "    - labels (list of str, optional): Display labels for each class.\n",
        "    - title (str): Title for the plot.\n",
        "    - cmap (Colormap): Color map for the plot.\n",
        "    \"\"\"\n",
        "    cm = confusion_matrix(y_true, y_pred)\n",
        "    disp = ConfusionMatrixDisplay(confusion_matrix=cm, display_labels=labels)\n",
        "    disp.plot(cmap=cmap)\n",
        "    plt.title(title)\n",
        "    plt.show()\n",
        "\n",
        "\n",
        "def evaluate_model(model, X_test, y_test, return_predictions=False):\n",
        "    \"\"\"\n",
        "    Evaluates a trained model on test data and prints accuracy, loss, and a classification report.\n",
        "\n",
        "    Parameters:\n",
        "    - model: Trained Keras model.\n",
        "    - X_test (np.ndarray): Test input data.\n",
        "    - y_test (np.ndarray): True labels for the test data.\n",
        "    - return_predictions (bool): If True, returns y_pred and y_pred_probs.\n",
        "\n",
        "    Returns:\n",
        "    - Optionally returns y_pred, y_pred_probs if return_predictions=True.\n",
        "    \"\"\"\n",
        "    val_loss, val_acc = model.evaluate(X_test, y_test, verbose=0)\n",
        "    print(f\"Validation Accuracy: {val_acc:.4f}\")\n",
        "    print(f\"Validation Loss: {val_loss:.4f}\")\n",
        "\n",
        "    y_pred_probs = model.predict(X_test, verbose=0)\n",
        "    y_pred = np.argmax(y_pred_probs, axis=1)\n",
        "\n",
        "    print(\"\\nClassification Report:\")\n",
        "    print(classification_report(y_test, y_pred))\n",
        "\n",
        "    if return_predictions:\n",
        "        return y_pred, y_pred_probs\n",
        "\n",
        "import numpy as np\n",
        "\n",
        "def find_not_confident_predictions(predictions, confidence_threshold=0.99):\n",
        "    \"\"\"\n",
        "    Finds samples where the highest predicted probability is below the given threshold,\n",
        "    and prints out the top 2 predicted classes and their probabilities.\n",
        "\n",
        "    Parameters:\n",
        "    - predictions (np.ndarray): Model's predicted probabilities for each sample.\n",
        "    - confidence_threshold (float): The probability threshold below which a prediction is considered low-confidence.\n",
        "\n",
        "    Returns:\n",
        "    - not_confident (list): List of dictionaries containing indices, top predicted classes, and probabilities.\n",
        "    \"\"\"\n",
        "    not_confident = []\n",
        "\n",
        "    for i, pred in enumerate(predictions):\n",
        "        max_prob = np.max(pred)\n",
        "        if max_prob < confidence_threshold:\n",
        "            top2_indices = np.argsort(pred)[-2:][::-1]\n",
        "            top2_probs = pred[top2_indices]\n",
        "            not_confident.append({\n",
        "                'sample_index': i,\n",
        "                'top_classes': top2_indices.tolist(),\n",
        "                'top_probs': top2_probs.tolist()\n",
        "            })\n",
        "\n",
        "    print(f\"Number of samples where the model was NOT {confidence_threshold*100}% confident: {len(not_confident)}\\n\")\n",
        "\n",
        "    # for case in not_confident:\n",
        "    #     print(f\"Sample {case['sample_index']} - Top classes: {case['top_classes']}, \"\n",
        "    #           f\"Probs: {case['top_probs']}\")\n",
        "\n",
        "    return not_confident\n"
      ],
      "metadata": {
        "trusted": true,
        "execution": {
          "iopub.status.busy": "2025-05-04T13:41:15.382731Z",
          "iopub.execute_input": "2025-05-04T13:41:15.383121Z",
          "iopub.status.idle": "2025-05-04T13:41:15.409859Z",
          "shell.execute_reply.started": "2025-05-04T13:41:15.383096Z",
          "shell.execute_reply": "2025-05-04T13:41:15.408833Z"
        },
        "id": "-UEgK7RNjqd6"
      },
      "outputs": [],
      "execution_count": 74
    },
    {
      "cell_type": "code",
      "source": [
        "###########################################\n",
        "# Function for generating the submission  #\n",
        "###########################################\n",
        "\n",
        "def generate_submission(best_model, X_test, test_ids, output_file='tuner.csv'):\n",
        "    \"\"\"\n",
        "    Generate predictions for the test set and create a CSV submission file.\n",
        "\n",
        "    Parameters:\n",
        "    - best_model (tensorflow.keras.Model): The trained model to make predictions.\n",
        "    - X_test (np.ndarray): Test input data.\n",
        "    - test_ids (np.ndarray or list): IDs corresponding to the test samples.\n",
        "    - output_file (str): The filename where the submission CSV will be saved.\n",
        "\n",
        "    Returns:\n",
        "    - None: Saves the prediction results to a CSV file.\n",
        "    \"\"\"\n",
        "\n",
        "    # Predict the probabilities for the test set\n",
        "    test_predictions = best_model.predict(X_test)\n",
        "\n",
        "    # Get the index of the highest probability class for each sample\n",
        "    test_predicted_labels = np.argmax(test_predictions, axis=1)\n",
        "\n",
        "    # Create a DataFrame to save\n",
        "    submission = pd.DataFrame({\n",
        "        'ID': test_ids,\n",
        "        'target': test_predicted_labels\n",
        "    })\n",
        "\n",
        "    # Save submission CSV\n",
        "    submission.to_csv(output_file, index=False)\n",
        "    print(f\"Submission saved to {output_file}\")\n"
      ],
      "metadata": {
        "trusted": true,
        "execution": {
          "iopub.status.busy": "2025-05-04T13:41:15.410841Z",
          "iopub.execute_input": "2025-05-04T13:41:15.411148Z",
          "iopub.status.idle": "2025-05-04T13:41:15.439305Z",
          "shell.execute_reply.started": "2025-05-04T13:41:15.411125Z",
          "shell.execute_reply": "2025-05-04T13:41:15.438344Z"
        },
        "id": "zXOI9MQ1jqd8"
      },
      "outputs": [],
      "execution_count": 75
    },
    {
      "cell_type": "code",
      "source": [
        "########################################\n",
        "# Functions for Hyperparameter Tunning #\n",
        "########################################\n",
        "\n",
        "class StopAtAccuracy(Callback):\n",
        "    def __init__(self, target=1.0):\n",
        "        super().__init__()\n",
        "        self.target = target\n",
        "\n",
        "    def on_epoch_end(self, epoch, logs=None):\n",
        "        val_acc = logs.get(\"val_accuracy\")\n",
        "        if val_acc is not None and val_acc >= self.target:\n",
        "            print(f\"\\nReached {self.target*100:.2f}% validation accuracy. Stopping training.\")\n",
        "            self.model.stop_training = True\n",
        "\n",
        "\n",
        "def build_model_2(hp):\n",
        "    model = models.Sequential()\n",
        "\n",
        "    model.add(layers.Conv2D(\n",
        "        filters=hp.Int(\"conv1_filters\", 32, 64, step=8),\n",
        "        kernel_size=hp.Choice(\"kernel_size1\", [3, 5]),\n",
        "        activation=\"relu\",\n",
        "        padding=\"same\",\n",
        "         input_shape=(72, 48, 1)\n",
        "    ))\n",
        "    model.add(layers.BatchNormalization())\n",
        "    model.add(layers.MaxPooling2D(pool_size=(2, 2)))\n",
        "\n",
        "    model.add(layers.Conv2D(\n",
        "        filters=hp.Int(\"conv2_filters\", 32, 128, step=8),\n",
        "        kernel_size=hp.Choice(\"kernel_size2\", [3, 5]),\n",
        "        activation=\"relu\",\n",
        "        padding=\"same\"\n",
        "    ))\n",
        "\n",
        "    model.add(layers.BatchNormalization())\n",
        "    model.add(layers.MaxPooling2D(pool_size=(2, 2)))\n",
        "\n",
        "    model.add(layers.Conv2D(\n",
        "        filters=hp.Int(\"conv3_filters\", 32, 128, step=8),\n",
        "        kernel_size=hp.Choice(\"kernel_size3\", [3, 5]),\n",
        "        activation=\"relu\",\n",
        "        padding=\"same\"\n",
        "    ))\n",
        "\n",
        "    model.add(layers.BatchNormalization())\n",
        "    model.add(layers.MaxPooling2D(pool_size=(2, 2)))\n",
        "\n",
        "    model.add(layers.Flatten())\n",
        "    model.add(layers.Dense(\n",
        "        units=hp.Int('dense_units', min_value=32, max_value=128, step=32),\n",
        "        activation='relu'\n",
        "    ))\n",
        "    model.add(layers.Dropout(\n",
        "        rate=hp.Float(\"dropout\", 0.0, 0.25, step=0.1)\n",
        "    ))\n",
        "\n",
        "    model.add(layers.Dense(3, activation='softmax'))\n",
        "\n",
        "\n",
        "    model.compile(optimizer=Adam(hp.Choice(\"learning_rate\", [1e-3,3e-4,1e-4])),\n",
        "                  loss='sparse_categorical_crossentropy',\n",
        "                  metrics=['accuracy'])\n",
        "\n",
        "    return model\n",
        "\n"
      ],
      "metadata": {
        "trusted": true,
        "execution": {
          "iopub.status.busy": "2025-05-04T13:41:15.441483Z",
          "iopub.execute_input": "2025-05-04T13:41:15.441841Z",
          "iopub.status.idle": "2025-05-04T13:41:15.465949Z",
          "shell.execute_reply.started": "2025-05-04T13:41:15.441806Z",
          "shell.execute_reply": "2025-05-04T13:41:15.465008Z"
        },
        "id": "N5OkJyldjqd9"
      },
      "outputs": [],
      "execution_count": 76
    },
    {
      "cell_type": "code",
      "source": [
        "# Loading the data\n",
        "\n",
        "X_test, y_test = load_test_data(test_folder)\n",
        "\n",
        "train_labels = pd.read_csv(train_labels_file)\n",
        "\n",
        "X_train_original, y_train_original= load_train_data(train_labels, train_folder)\n",
        "\n",
        "# Normalization of test data\n",
        "X_test = X_test / 255.0\n",
        "\n",
        "\n",
        "# Adding the channel dimenssion\n",
        "X_test = np.expand_dims(X_test, axis=-1)\n",
        "\n",
        "\n",
        "print(X_test.shape, y_test.shape)\n",
        "print(X_train_original.shape, y_train_original.shape)\n"
      ],
      "metadata": {
        "trusted": true,
        "execution": {
          "iopub.status.busy": "2025-05-04T13:41:15.466834Z",
          "iopub.execute_input": "2025-05-04T13:41:15.467181Z",
          "iopub.status.idle": "2025-05-04T13:41:17.892271Z",
          "shell.execute_reply.started": "2025-05-04T13:41:15.467159Z",
          "shell.execute_reply": "2025-05-04T13:41:17.890956Z"
        },
        "colab": {
          "base_uri": "https://localhost:8080/"
        },
        "id": "wvuInYPtjqd9",
        "outputId": "61bb9bb7-c139-417d-e9eb-38d9c8b2df77"
      },
      "outputs": [
        {
          "output_type": "stream",
          "name": "stdout",
          "text": [
            "(120, 72, 48, 1) (120,)\n",
            "(1491, 72, 48) (1491,)\n"
          ]
        }
      ],
      "execution_count": 77
    },
    {
      "cell_type": "code",
      "source": [
        "# Visualization of data\n",
        "\n",
        "plot_average_image_per_class(X_train_original, y_train_original)\n",
        "\n",
        "class_names = {0: 'Class 0', 1: 'Class 1', 2: 'Class 2'}\n",
        "plot_pca_projection(X_train_original, y_train_original, class_names=class_names)\n"
      ],
      "metadata": {
        "colab": {
          "base_uri": "https://localhost:8080/",
          "height": 755
        },
        "id": "oq29SZhXMODQ",
        "outputId": "adc4fe14-974a-4780-ffc3-7cc8ab38fd64",
        "trusted": true,
        "execution": {
          "iopub.status.busy": "2025-05-04T13:41:17.894332Z",
          "iopub.execute_input": "2025-05-04T13:41:17.894630Z",
          "iopub.status.idle": "2025-05-04T13:41:18.744802Z",
          "shell.execute_reply.started": "2025-05-04T13:41:17.894607Z",
          "shell.execute_reply": "2025-05-04T13:41:18.743638Z"
        }
      },
      "outputs": [
        {
          "output_type": "display_data",
          "data": {
            "text/plain": [
              "<Figure size 900x300 with 3 Axes>"
            ],
            "image/png": "[encoded data removed]"
          },
          "metadata": {}
        },
        {
          "output_type": "display_data",
          "data": {
            "text/plain": [
              "<Figure size 800x600 with 1 Axes>"
            ],
            "image/png": "[encoded data removed]"
          },
          "metadata": {}
        }
      ],
      "execution_count": 78
    },
    {
      "cell_type": "code",
      "source": [
        "# Examination\n",
        "# Check the amount of samples per class (balanced ?)\n",
        "count_target_values(train_labels_file)"
      ],
      "metadata": {
        "trusted": true,
        "execution": {
          "iopub.status.busy": "2025-05-04T13:41:18.745952Z",
          "iopub.execute_input": "2025-05-04T13:41:18.746348Z",
          "iopub.status.idle": "2025-05-04T13:41:18.761144Z",
          "shell.execute_reply.started": "2025-05-04T13:41:18.746322Z",
          "shell.execute_reply": "2025-05-04T13:41:18.760288Z"
        },
        "colab": {
          "base_uri": "https://localhost:8080/"
        },
        "id": "r9BdDaHxjqeA",
        "outputId": "6275240a-f3c4-4807-83e2-2464203d432e"
      },
      "outputs": [
        {
          "output_type": "stream",
          "name": "stdout",
          "text": [
            "Counts of each unique value in 'target':\n",
            "target\n",
            "0    1209\n",
            "2     141\n",
            "1     141\n",
            "Name: count, dtype: int64\n"
          ]
        },
        {
          "output_type": "execute_result",
          "data": {
            "text/plain": [
              "{0: 1209, 2: 141, 1: 141}"
            ]
          },
          "metadata": {},
          "execution_count": 79
        }
      ],
      "execution_count": 79
    },
    {
      "cell_type": "code",
      "source": [
        "# Augment data\n",
        "X_train = np.expand_dims(X_train_original, axis=-1)\n",
        "\n",
        "X_train, y_train, X_val, y_val= prepare_data(X_train, y_train_original)\n",
        "\n",
        "\n",
        "\n",
        "print_class_distribution(y_train, y_val,\n",
        "                         dataset_names=[\"training set\", \"validation set\"])\n"
      ],
      "metadata": {
        "id": "5ZzDUp8p2ngr",
        "trusted": true,
        "execution": {
          "iopub.status.busy": "2025-05-04T13:41:18.762395Z",
          "iopub.execute_input": "2025-05-04T13:41:18.762681Z",
          "iopub.status.idle": "2025-05-04T13:41:19.654909Z",
          "shell.execute_reply.started": "2025-05-04T13:41:18.762661Z",
          "shell.execute_reply": "2025-05-04T13:41:19.654083Z"
        },
        "colab": {
          "base_uri": "https://localhost:8080/"
        },
        "outputId": "92427395-bf36-410f-d07e-85c6cd2721a3"
      },
      "outputs": [
        {
          "output_type": "stream",
          "name": "stdout",
          "text": [
            "Train: (2901, 72, 48, 1) (2901,)\n",
            "Val: (300, 72, 48, 1) (300,)\n",
            "\n",
            "Final class distribution in training set:\n",
            "Class 0: 967 samples\n",
            "Class 1: 967 samples\n",
            "Class 2: 967 samples\n",
            "\n",
            "Final class distribution in validation set:\n",
            "Class 0: 242 samples\n",
            "Class 1: 29 samples\n",
            "Class 2: 29 samples\n"
          ]
        }
      ],
      "execution_count": 80
    },
    {
      "cell_type": "code",
      "source": [
        "tuner2 = kt.RandomSearch(\n",
        "    build_model_2,\n",
        "    objective='val_accuracy',\n",
        "    max_trials=100,\n",
        "    executions_per_trial=1,\n",
        "    directory='my_tuner_dir',\n",
        "    project_name='cnn3_tuning'\n",
        ")"
      ],
      "metadata": {
        "trusted": true,
        "execution": {
          "iopub.status.busy": "2025-05-04T13:41:19.655727Z",
          "iopub.execute_input": "2025-05-04T13:41:19.655965Z",
          "iopub.status.idle": "2025-05-04T13:41:19.682624Z",
          "shell.execute_reply.started": "2025-05-04T13:41:19.655947Z",
          "shell.execute_reply": "2025-05-04T13:41:19.681315Z"
        },
        "colab": {
          "base_uri": "https://localhost:8080/"
        },
        "id": "Px3bPBIujqeC",
        "outputId": "e4627333-7b80-4ff5-bf3b-d1269c0e3f3b"
      },
      "outputs": [
        {
          "output_type": "stream",
          "name": "stdout",
          "text": [
            "Reloading Tuner from my_tuner_dir/cnn3_tuning/tuner0.json\n"
          ]
        }
      ],
      "execution_count": 81
    },
    {
      "cell_type": "code",
      "source": [
        "print(X_train.shape)"
      ],
      "metadata": {
        "colab": {
          "base_uri": "https://localhost:8080/"
        },
        "id": "yBnGqflNnB3v",
        "outputId": "037447f5-7089-40b1-cdb4-d7515b73f8b4"
      },
      "execution_count": 82,
      "outputs": [
        {
          "output_type": "stream",
          "name": "stdout",
          "text": [
            "(2901, 72, 48, 1)\n"
          ]
        }
      ]
    },
    {
      "cell_type": "code",
      "source": [
        "stop_at_accuracy = StopAtAccuracy(target=1.0)\n",
        "\n",
        "class_weight= {0: 1.0, 1: 2.0, 2: 3.0}\n",
        "\n",
        "tuner2.search(X_train, y_train,\n",
        "             epochs=20,\n",
        "             validation_data=(X_val, y_val),\n",
        "             class_weight=class_weight,\n",
        "             callbacks=[ stop_at_accuracy])"
      ],
      "metadata": {
        "trusted": true,
        "execution": {
          "iopub.status.busy": "2025-05-04T13:41:19.683587Z",
          "iopub.execute_input": "2025-05-04T13:41:19.683826Z"
        },
        "id": "vXUpfiRjjqeD"
      },
      "outputs": [],
      "execution_count": null
    },
    {
      "cell_type": "code",
      "source": [
        "best_model = tuner2.get_best_models(num_models=1)[0]\n",
        "best_hp = tuner2.get_best_hyperparameters(1)[0]\n",
        "model=best_model\n",
        "print(\"Best hyperparameters:\")\n",
        "print(f\"conv1_filters: {best_hp.get('conv1_filters')}\")\n",
        "print(f\"kernel_size1: {best_hp.get('kernel_size1')}\")\n",
        "print(f\"conv2_filters: {best_hp.get('conv2_filters')}\")\n",
        "print(f\"kernel_size2: {best_hp.get('kernel_size2')}\")\n",
        "print(f\"conv3_filters: {best_hp.get('conv3_filters')}\")\n",
        "print(f\"kernel_size3: {best_hp.get('kernel_size3')}\")\n",
        "print(f\"dense_units: {best_hp.get('dense_units')}\")\n",
        "print(f\"dropout: {best_hp.get('dropout')}\")\n",
        "print(f\"learning_rate: {best_hp.get('learning_rate')}\")"
      ],
      "metadata": {
        "trusted": true,
        "colab": {
          "base_uri": "https://localhost:8080/"
        },
        "id": "badVoKc5jqeE",
        "outputId": "e2aa3e0a-4003-4025-aa77-3d5ce6a6a2da"
      },
      "outputs": [
        {
          "output_type": "stream",
          "name": "stdout",
          "text": [
            "Best hyperparameters:\n",
            "conv1_filters: 48\n",
            "kernel_size1: 3\n",
            "conv2_filters: 128\n",
            "kernel_size2: 5\n",
            "conv3_filters: 128\n",
            "kernel_size3: 5\n",
            "dense_units: 128\n",
            "dropout: 0.0\n",
            "learning_rate: 0.0003\n"
          ]
        },
        {
          "output_type": "stream",
          "name": "stderr",
          "text": [
            "/usr/local/lib/python3.11/dist-packages/keras/src/saving/saving_lib.py:757: UserWarning: Skipping variable loading for optimizer 'adam', because it has 2 variables whereas the saved optimizer has 34 variables. \n",
            "  saveable.load_own_variables(weights_store.get(inner_path))\n"
          ]
        }
      ],
      "execution_count": 84
    },
    {
      "cell_type": "code",
      "source": [
        "# Train model\n",
        "model= build_model_2(best_hp)\n",
        "class_weight = {0:1.0, 1:2.0, 2:3.0}\n",
        "# Define early stopping callback\n",
        "early_stopping = EarlyStopping(\n",
        "    monitor='val_loss',        # Monitor validation loss\n",
        "    patience=50,         # Number of epochs with no improvement after which to stop\n",
        "    min_delta=1e-8,       # Minimum change to qualify as improvement\n",
        "    restore_best_weights=True  # Restore model weights from the epoch with the best value of monitored metric\n",
        ")\n",
        "\n",
        "# Train the model with early stopping\n",
        "history = model.fit(\n",
        "    X_train,\n",
        "    y_train,\n",
        "    validation_data=(X_val, y_val),\n",
        "    epochs=100,\n",
        "    batch_size=5,\n",
        "    callbacks=[early_stopping],\n",
        "    class_weight=class_weight\n",
        ")\n",
        "\n",
        "plot_training(history)\n",
        "\n",
        "# Print information about early stopping\n",
        "if early_stopping.stopped_epoch > 0:\n",
        "    print(f\"Early stopping occurred at epoch {early_stopping.stopped_epoch + 1}\")\n",
        "    print(f\"Best epoch was {early_stopping.stopped_epoch + 1 - early_stopping.patience}\")\n",
        "else:\n",
        "    print(\"Early stopping did not occur. All epochs were trained.\")\n",
        "\n"
      ],
      "metadata": {
        "trusted": true,
        "colab": {
          "base_uri": "https://localhost:8080/",
          "height": 1000
        },
        "id": "SRZlruiIjqeF",
        "outputId": "d56f3db4-d777-4bc8-c0d3-0ed88a3b75e6"
      },
      "outputs": [
        {
          "output_type": "stream",
          "name": "stdout",
          "text": [
            "Epoch 1/100\n",
            "\u001b[1m581/581\u001b[0m \u001b[32m━━━━━━━━━━━━━━━━━━━━\u001b[0m\u001b[37m\u001b[0m \u001b[1m19s\u001b[0m 23ms/step - accuracy: 0.7867 - loss: 1.5400 - val_accuracy: 0.0967 - val_loss: 13.5327\n",
            "Epoch 2/100\n",
            "\u001b[1m581/581\u001b[0m \u001b[32m━━━━━━━━━━━━━━━━━━━━\u001b[0m\u001b[37m\u001b[0m \u001b[1m3s\u001b[0m 6ms/step - accuracy: 0.9588 - loss: 0.2989 - val_accuracy: 0.9333 - val_loss: 0.1270\n",
            "Epoch 3/100\n",
            "\u001b[1m581/581\u001b[0m \u001b[32m━━━━━━━━━━━━━━━━━━━━\u001b[0m\u001b[37m\u001b[0m \u001b[1m3s\u001b[0m 5ms/step - accuracy: 0.9673 - loss: 0.2388 - val_accuracy: 0.9767 - val_loss: 0.0442\n",
            "Epoch 4/100\n",
            "\u001b[1m581/581\u001b[0m \u001b[32m━━━━━━━━━━━━━━━━━━━━\u001b[0m\u001b[37m\u001b[0m \u001b[1m3s\u001b[0m 6ms/step - accuracy: 0.9809 - loss: 0.1395 - val_accuracy: 0.9933 - val_loss: 0.0269\n",
            "Epoch 5/100\n",
            "\u001b[1m581/581\u001b[0m \u001b[32m━━━━━━━━━━━━━━━━━━━━\u001b[0m\u001b[37m\u001b[0m \u001b[1m3s\u001b[0m 6ms/step - accuracy: 0.9718 - loss: 0.2267 - val_accuracy: 0.9833 - val_loss: 0.0991\n",
            "Epoch 6/100\n",
            "\u001b[1m581/581\u001b[0m \u001b[32m━━━━━━━━━━━━━━━━━━━━\u001b[0m\u001b[37m\u001b[0m \u001b[1m3s\u001b[0m 5ms/step - accuracy: 0.9863 - loss: 0.0669 - val_accuracy: 0.9967 - val_loss: 0.0215\n",
            "Epoch 7/100\n",
            "\u001b[1m581/581\u001b[0m \u001b[32m━━━━━━━━━━━━━━━━━━━━\u001b[0m\u001b[37m\u001b[0m \u001b[1m5s\u001b[0m 5ms/step - accuracy: 0.9995 - loss: 0.0088 - val_accuracy: 0.9933 - val_loss: 0.0229\n",
            "Epoch 8/100\n",
            "\u001b[1m581/581\u001b[0m \u001b[32m━━━━━━━━━━━━━━━━━━━━\u001b[0m\u001b[37m\u001b[0m \u001b[1m3s\u001b[0m 6ms/step - accuracy: 0.9942 - loss: 0.0344 - val_accuracy: 0.9067 - val_loss: 0.5024\n",
            "Epoch 9/100\n",
            "\u001b[1m581/581\u001b[0m \u001b[32m━━━━━━━━━━━━━━━━━━━━\u001b[0m\u001b[37m\u001b[0m \u001b[1m5s\u001b[0m 5ms/step - accuracy: 0.9898 - loss: 0.0750 - val_accuracy: 0.9967 - val_loss: 0.0092\n",
            "Epoch 10/100\n",
            "\u001b[1m581/581\u001b[0m \u001b[32m━━━━━━━━━━━━━━━━━━━━\u001b[0m\u001b[37m\u001b[0m \u001b[1m6s\u001b[0m 7ms/step - accuracy: 0.9922 - loss: 0.0546 - val_accuracy: 0.9900 - val_loss: 0.0328\n",
            "Epoch 11/100\n",
            "\u001b[1m581/581\u001b[0m \u001b[32m━━━━━━━━━━━━━━━━━━━━\u001b[0m\u001b[37m\u001b[0m \u001b[1m3s\u001b[0m 6ms/step - accuracy: 0.9959 - loss: 0.0243 - val_accuracy: 0.9933 - val_loss: 0.0214\n",
            "Epoch 12/100\n",
            "\u001b[1m581/581\u001b[0m \u001b[32m━━━━━━━━━━━━━━━━━━━━\u001b[0m\u001b[37m\u001b[0m \u001b[1m5s\u001b[0m 5ms/step - accuracy: 0.9969 - loss: 0.0222 - val_accuracy: 0.9900 - val_loss: 0.0252\n",
            "Epoch 13/100\n",
            "\u001b[1m581/581\u001b[0m \u001b[32m━━━━━━━━━━━━━━━━━━━━\u001b[0m\u001b[37m\u001b[0m \u001b[1m3s\u001b[0m 5ms/step - accuracy: 0.9971 - loss: 0.0251 - val_accuracy: 0.9767 - val_loss: 0.0435\n",
            "Epoch 14/100\n",
            "\u001b[1m581/581\u001b[0m \u001b[32m━━━━━━━━━━━━━━━━━━━━\u001b[0m\u001b[37m\u001b[0m \u001b[1m5s\u001b[0m 5ms/step - accuracy: 0.9956 - loss: 0.0442 - val_accuracy: 0.9967 - val_loss: 0.0263\n",
            "Epoch 15/100\n",
            "\u001b[1m581/581\u001b[0m \u001b[32m━━━━━━━━━━━━━━━━━━━━\u001b[0m\u001b[37m\u001b[0m \u001b[1m3s\u001b[0m 5ms/step - accuracy: 1.0000 - loss: 0.0010 - val_accuracy: 0.8867 - val_loss: 0.4837\n",
            "Epoch 16/100\n",
            "\u001b[1m581/581\u001b[0m \u001b[32m━━━━━━━━━━━━━━━━━━━━\u001b[0m\u001b[37m\u001b[0m \u001b[1m5s\u001b[0m 6ms/step - accuracy: 0.9957 - loss: 0.0261 - val_accuracy: 0.9867 - val_loss: 0.0917\n",
            "Epoch 17/100\n",
            "\u001b[1m581/581\u001b[0m \u001b[32m━━━━━━━━━━━━━━━━━━━━\u001b[0m\u001b[37m\u001b[0m \u001b[1m5s\u001b[0m 5ms/step - accuracy: 0.9981 - loss: 0.0082 - val_accuracy: 0.9867 - val_loss: 0.1082\n",
            "Epoch 18/100\n",
            "\u001b[1m581/581\u001b[0m \u001b[32m━━━━━━━━━━━━━━━━━━━━\u001b[0m\u001b[37m\u001b[0m \u001b[1m5s\u001b[0m 5ms/step - accuracy: 0.9950 - loss: 0.0896 - val_accuracy: 0.9933 - val_loss: 0.0167\n",
            "Epoch 19/100\n",
            "\u001b[1m581/581\u001b[0m \u001b[32m━━━━━━━━━━━━━━━━━━━━\u001b[0m\u001b[37m\u001b[0m \u001b[1m3s\u001b[0m 6ms/step - accuracy: 0.9993 - loss: 0.0058 - val_accuracy: 0.9967 - val_loss: 0.0172\n",
            "Epoch 20/100\n",
            "\u001b[1m581/581\u001b[0m \u001b[32m━━━━━━━━━━━━━━━━━━━━\u001b[0m\u001b[37m\u001b[0m \u001b[1m3s\u001b[0m 5ms/step - accuracy: 1.0000 - loss: 7.6911e-04 - val_accuracy: 0.9933 - val_loss: 0.0227\n",
            "Epoch 21/100\n",
            "\u001b[1m581/581\u001b[0m \u001b[32m━━━━━━━━━━━━━━━━━━━━\u001b[0m\u001b[37m\u001b[0m \u001b[1m3s\u001b[0m 5ms/step - accuracy: 1.0000 - loss: 3.2440e-04 - val_accuracy: 0.9933 - val_loss: 0.0221\n",
            "Epoch 22/100\n",
            "\u001b[1m581/581\u001b[0m \u001b[32m━━━━━━━━━━━━━━━━━━━━\u001b[0m\u001b[37m\u001b[0m \u001b[1m3s\u001b[0m 5ms/step - accuracy: 1.0000 - loss: 4.1247e-04 - val_accuracy: 0.9967 - val_loss: 0.0212\n",
            "Epoch 23/100\n",
            "\u001b[1m581/581\u001b[0m \u001b[32m━━━━━━━━━━━━━━━━━━━━\u001b[0m\u001b[37m\u001b[0m \u001b[1m3s\u001b[0m 6ms/step - accuracy: 1.0000 - loss: 1.9907e-04 - val_accuracy: 0.9933 - val_loss: 0.0219\n",
            "Epoch 24/100\n",
            "\u001b[1m581/581\u001b[0m \u001b[32m━━━━━━━━━━━━━━━━━━━━\u001b[0m\u001b[37m\u001b[0m \u001b[1m5s\u001b[0m 5ms/step - accuracy: 1.0000 - loss: 1.6741e-04 - val_accuracy: 0.9900 - val_loss: 0.0283\n",
            "Epoch 25/100\n",
            "\u001b[1m581/581\u001b[0m \u001b[32m━━━━━━━━━━━━━━━━━━━━\u001b[0m\u001b[37m\u001b[0m \u001b[1m3s\u001b[0m 5ms/step - accuracy: 1.0000 - loss: 1.2921e-04 - val_accuracy: 0.9933 - val_loss: 0.0269\n",
            "Epoch 26/100\n",
            "\u001b[1m581/581\u001b[0m \u001b[32m━━━━━━━━━━━━━━━━━━━━\u001b[0m\u001b[37m\u001b[0m \u001b[1m3s\u001b[0m 5ms/step - accuracy: 0.9980 - loss: 0.0136 - val_accuracy: 0.9767 - val_loss: 0.1892\n",
            "Epoch 27/100\n",
            "\u001b[1m581/581\u001b[0m \u001b[32m━━━━━━━━━━━━━━━━━━━━\u001b[0m\u001b[37m\u001b[0m \u001b[1m4s\u001b[0m 6ms/step - accuracy: 0.9941 - loss: 0.0728 - val_accuracy: 0.9933 - val_loss: 0.0466\n",
            "Epoch 28/100\n",
            "\u001b[1m581/581\u001b[0m \u001b[32m━━━━━━━━━━━━━━━━━━━━\u001b[0m\u001b[37m\u001b[0m \u001b[1m3s\u001b[0m 5ms/step - accuracy: 0.9990 - loss: 0.0109 - val_accuracy: 0.9900 - val_loss: 0.0189\n",
            "Epoch 29/100\n",
            "\u001b[1m581/581\u001b[0m \u001b[32m━━━━━━━━━━━━━━━━━━━━\u001b[0m\u001b[37m\u001b[0m \u001b[1m3s\u001b[0m 5ms/step - accuracy: 0.9956 - loss: 0.0332 - val_accuracy: 0.9933 - val_loss: 0.0201\n",
            "Epoch 30/100\n",
            "\u001b[1m581/581\u001b[0m \u001b[32m━━━━━━━━━━━━━━━━━━━━\u001b[0m\u001b[37m\u001b[0m \u001b[1m6s\u001b[0m 6ms/step - accuracy: 0.9996 - loss: 0.0032 - val_accuracy: 0.9900 - val_loss: 0.0688\n",
            "Epoch 31/100\n",
            "\u001b[1m581/581\u001b[0m \u001b[32m━━━━━━━━━━━━━━━━━━━━\u001b[0m\u001b[37m\u001b[0m \u001b[1m3s\u001b[0m 6ms/step - accuracy: 0.9992 - loss: 0.0033 - val_accuracy: 0.9933 - val_loss: 0.0489\n",
            "Epoch 32/100\n",
            "\u001b[1m581/581\u001b[0m \u001b[32m━━━━━━━━━━━━━━━━━━━━\u001b[0m\u001b[37m\u001b[0m \u001b[1m3s\u001b[0m 5ms/step - accuracy: 1.0000 - loss: 7.7787e-05 - val_accuracy: 0.9933 - val_loss: 0.0401\n",
            "Epoch 33/100\n",
            "\u001b[1m581/581\u001b[0m \u001b[32m━━━━━━━━━━━━━━━━━━━━\u001b[0m\u001b[37m\u001b[0m \u001b[1m3s\u001b[0m 5ms/step - accuracy: 0.9940 - loss: 0.0687 - val_accuracy: 0.9067 - val_loss: 0.5899\n",
            "Epoch 34/100\n",
            "\u001b[1m581/581\u001b[0m \u001b[32m━━━━━━━━━━━━━━━━━━━━\u001b[0m\u001b[37m\u001b[0m \u001b[1m6s\u001b[0m 6ms/step - accuracy: 0.9935 - loss: 0.0684 - val_accuracy: 0.9933 - val_loss: 0.0122\n",
            "Epoch 35/100\n",
            "\u001b[1m581/581\u001b[0m \u001b[32m━━━━━━━━━━━━━━━━━━━━\u001b[0m\u001b[37m\u001b[0m \u001b[1m3s\u001b[0m 5ms/step - accuracy: 0.9997 - loss: 0.0022 - val_accuracy: 0.9933 - val_loss: 0.0317\n",
            "Epoch 36/100\n",
            "\u001b[1m581/581\u001b[0m \u001b[32m━━━━━━━━━━━━━━━━━━━━\u001b[0m\u001b[37m\u001b[0m \u001b[1m5s\u001b[0m 6ms/step - accuracy: 0.9998 - loss: 0.0015 - val_accuracy: 0.9933 - val_loss: 0.0298\n",
            "Epoch 37/100\n",
            "\u001b[1m581/581\u001b[0m \u001b[32m━━━━━━━━━━━━━━━━━━━━\u001b[0m\u001b[37m\u001b[0m \u001b[1m3s\u001b[0m 6ms/step - accuracy: 1.0000 - loss: 1.2062e-04 - val_accuracy: 0.9900 - val_loss: 0.0349\n",
            "Epoch 38/100\n",
            "\u001b[1m581/581\u001b[0m \u001b[32m━━━━━━━━━━━━━━━━━━━━\u001b[0m\u001b[37m\u001b[0m \u001b[1m3s\u001b[0m 5ms/step - accuracy: 1.0000 - loss: 2.7377e-05 - val_accuracy: 0.9900 - val_loss: 0.0381\n",
            "Epoch 39/100\n",
            "\u001b[1m581/581\u001b[0m \u001b[32m━━━━━━━━━━━━━━━━━━━━\u001b[0m\u001b[37m\u001b[0m \u001b[1m5s\u001b[0m 5ms/step - accuracy: 1.0000 - loss: 2.0437e-05 - val_accuracy: 0.9933 - val_loss: 0.0338\n",
            "Epoch 40/100\n",
            "\u001b[1m581/581\u001b[0m \u001b[32m━━━━━━━━━━━━━━━━━━━━\u001b[0m\u001b[37m\u001b[0m \u001b[1m6s\u001b[0m 6ms/step - accuracy: 1.0000 - loss: 3.8781e-05 - val_accuracy: 0.9933 - val_loss: 0.0317\n",
            "Epoch 41/100\n",
            "\u001b[1m581/581\u001b[0m \u001b[32m━━━━━━━━━━━━━━━━━━━━\u001b[0m\u001b[37m\u001b[0m \u001b[1m3s\u001b[0m 5ms/step - accuracy: 0.9997 - loss: 0.0052 - val_accuracy: 0.9800 - val_loss: 0.1182\n",
            "Epoch 42/100\n",
            "\u001b[1m581/581\u001b[0m \u001b[32m━━━━━━━━━━━━━━━━━━━━\u001b[0m\u001b[37m\u001b[0m \u001b[1m5s\u001b[0m 5ms/step - accuracy: 0.9972 - loss: 0.0198 - val_accuracy: 0.9967 - val_loss: 0.0519\n",
            "Epoch 43/100\n",
            "\u001b[1m581/581\u001b[0m \u001b[32m━━━━━━━━━━━━━━━━━━━━\u001b[0m\u001b[37m\u001b[0m \u001b[1m3s\u001b[0m 6ms/step - accuracy: 1.0000 - loss: 5.9727e-04 - val_accuracy: 0.9933 - val_loss: 0.0544\n",
            "Epoch 44/100\n",
            "\u001b[1m581/581\u001b[0m \u001b[32m━━━━━━━━━━━━━━━━━━━━\u001b[0m\u001b[37m\u001b[0m \u001b[1m3s\u001b[0m 6ms/step - accuracy: 0.9980 - loss: 0.0238 - val_accuracy: 0.9900 - val_loss: 0.0626\n",
            "Epoch 45/100\n",
            "\u001b[1m581/581\u001b[0m \u001b[32m━━━━━━━━━━━━━━━━━━━━\u001b[0m\u001b[37m\u001b[0m \u001b[1m5s\u001b[0m 6ms/step - accuracy: 0.9948 - loss: 0.0449 - val_accuracy: 0.9867 - val_loss: 0.2605\n",
            "Epoch 46/100\n",
            "\u001b[1m581/581\u001b[0m \u001b[32m━━━━━━━━━━━━━━━━━━━━\u001b[0m\u001b[37m\u001b[0m \u001b[1m5s\u001b[0m 6ms/step - accuracy: 1.0000 - loss: 0.0021 - val_accuracy: 0.9933 - val_loss: 0.0866\n",
            "Epoch 47/100\n",
            "\u001b[1m581/581\u001b[0m \u001b[32m━━━━━━━━━━━━━━━━━━━━\u001b[0m\u001b[37m\u001b[0m \u001b[1m3s\u001b[0m 5ms/step - accuracy: 1.0000 - loss: 1.1306e-05 - val_accuracy: 0.9933 - val_loss: 0.0889\n",
            "Epoch 48/100\n",
            "\u001b[1m581/581\u001b[0m \u001b[32m━━━━━━━━━━━━━━━━━━━━\u001b[0m\u001b[37m\u001b[0m \u001b[1m3s\u001b[0m 5ms/step - accuracy: 0.9988 - loss: 0.0148 - val_accuracy: 0.9867 - val_loss: 0.1239\n",
            "Epoch 49/100\n",
            "\u001b[1m581/581\u001b[0m \u001b[32m━━━━━━━━━━━━━━━━━━━━\u001b[0m\u001b[37m\u001b[0m \u001b[1m5s\u001b[0m 5ms/step - accuracy: 0.9933 - loss: 0.0574 - val_accuracy: 0.9867 - val_loss: 0.0770\n",
            "Epoch 50/100\n",
            "\u001b[1m581/581\u001b[0m \u001b[32m━━━━━━━━━━━━━━━━━━━━\u001b[0m\u001b[37m\u001b[0m \u001b[1m4s\u001b[0m 6ms/step - accuracy: 1.0000 - loss: 0.0012 - val_accuracy: 0.9900 - val_loss: 0.0652\n",
            "Epoch 51/100\n",
            "\u001b[1m581/581\u001b[0m \u001b[32m━━━━━━━━━━━━━━━━━━━━\u001b[0m\u001b[37m\u001b[0m \u001b[1m3s\u001b[0m 5ms/step - accuracy: 1.0000 - loss: 8.3226e-05 - val_accuracy: 0.9867 - val_loss: 0.0621\n",
            "Epoch 52/100\n",
            "\u001b[1m581/581\u001b[0m \u001b[32m━━━━━━━━━━━━━━━━━━━━\u001b[0m\u001b[37m\u001b[0m \u001b[1m3s\u001b[0m 5ms/step - accuracy: 0.9998 - loss: 5.5562e-04 - val_accuracy: 0.9933 - val_loss: 0.0270\n",
            "Epoch 53/100\n",
            "\u001b[1m581/581\u001b[0m \u001b[32m━━━━━━━━━━━━━━━━━━━━\u001b[0m\u001b[37m\u001b[0m \u001b[1m3s\u001b[0m 5ms/step - accuracy: 0.9991 - loss: 0.0039 - val_accuracy: 0.9900 - val_loss: 0.0872\n",
            "Epoch 54/100\n",
            "\u001b[1m581/581\u001b[0m \u001b[32m━━━━━━━━━━━━━━━━━━━━\u001b[0m\u001b[37m\u001b[0m \u001b[1m3s\u001b[0m 6ms/step - accuracy: 1.0000 - loss: 0.0018 - val_accuracy: 0.9933 - val_loss: 0.0899\n",
            "Epoch 55/100\n",
            "\u001b[1m581/581\u001b[0m \u001b[32m━━━━━━━━━━━━━━━━━━━━\u001b[0m\u001b[37m\u001b[0m \u001b[1m3s\u001b[0m 5ms/step - accuracy: 1.0000 - loss: 1.8083e-05 - val_accuracy: 0.9933 - val_loss: 0.0620\n",
            "Epoch 56/100\n",
            "\u001b[1m581/581\u001b[0m \u001b[32m━━━━━━━━━━━━━━━━━━━━\u001b[0m\u001b[37m\u001b[0m \u001b[1m3s\u001b[0m 5ms/step - accuracy: 1.0000 - loss: 6.3355e-06 - val_accuracy: 0.9933 - val_loss: 0.0582\n",
            "Epoch 57/100\n",
            "\u001b[1m581/581\u001b[0m \u001b[32m━━━━━━━━━━━━━━━━━━━━\u001b[0m\u001b[37m\u001b[0m \u001b[1m3s\u001b[0m 5ms/step - accuracy: 1.0000 - loss: 5.3497e-06 - val_accuracy: 0.9933 - val_loss: 0.0590\n",
            "Epoch 58/100\n",
            "\u001b[1m581/581\u001b[0m \u001b[32m━━━━━━━━━━━━━━━━━━━━\u001b[0m\u001b[37m\u001b[0m \u001b[1m5s\u001b[0m 5ms/step - accuracy: 1.0000 - loss: 2.0167e-05 - val_accuracy: 0.9933 - val_loss: 0.0643\n",
            "Epoch 59/100\n",
            "\u001b[1m581/581\u001b[0m \u001b[32m━━━━━━━━━━━━━━━━━━━━\u001b[0m\u001b[37m\u001b[0m \u001b[1m5s\u001b[0m 5ms/step - accuracy: 1.0000 - loss: 2.6952e-06 - val_accuracy: 0.9933 - val_loss: 0.0708\n"
          ]
        },
        {
          "output_type": "display_data",
          "data": {
            "text/plain": [
              "<Figure size 1200x500 with 2 Axes>"
            ],
            "image/png": "[encoded data removed]"
          },
          "metadata": {}
        },
        {
          "output_type": "stream",
          "name": "stdout",
          "text": [
            "Early stopping occurred at epoch 59\n",
            "Best epoch was 9\n"
          ]
        }
      ],
      "execution_count": 85
    },
    {
      "cell_type": "code",
      "source": [
        "# Results analysis\n",
        "\n",
        "val_loss, val_acc = model.evaluate(X_train, y_train)\n",
        "print(f\"Validation Accuracy: {val_acc:.4f}\")\n",
        "print(f\"Validation Loss: {val_loss:.4f}\")\n",
        "\n",
        "y_pred_probs = model.predict(X_train)\n",
        "y_pred = np.argmax(y_pred_probs, axis=1)\n",
        "\n",
        "print(\"\\nClassification Report:\")\n",
        "print(classification_report(y_train, y_pred))\n",
        "\n",
        "cm = confusion_matrix(y_train, y_pred)\n",
        "disp = ConfusionMatrixDisplay(confusion_matrix=cm, display_labels=['Class 0', 'Class 1', 'Class 2'])\n",
        "disp.plot(cmap=plt.cm.Blues)\n",
        "plt.title(\"Confusion Matrix\")\n",
        "plt.show()\n",
        "\n",
        "most_confused, freq = find_most_confused_pair(y_pred_probs, threshold=0.99)\n",
        "\n",
        "not_confident_samples = find_not_confident_predictions(y_pred_probs, confidence_threshold=0.99)\n"
      ],
      "metadata": {
        "id": "Cgsoyz9Rd_th",
        "colab": {
          "base_uri": "https://localhost:8080/",
          "height": 815
        },
        "outputId": "e6c8f468-d851-49b3-9f3d-1ce6e0251b91",
        "trusted": true
      },
      "outputs": [
        {
          "output_type": "stream",
          "name": "stdout",
          "text": [
            "\u001b[1m91/91\u001b[0m \u001b[32m━━━━━━━━━━━━━━━━━━━━\u001b[0m\u001b[37m\u001b[0m \u001b[1m2s\u001b[0m 11ms/step - accuracy: 0.9960 - loss: 0.0090\n",
            "Validation Accuracy: 0.9941\n",
            "Validation Loss: 0.0156\n",
            "\u001b[1m91/91\u001b[0m \u001b[32m━━━━━━━━━━━━━━━━━━━━\u001b[0m\u001b[37m\u001b[0m \u001b[1m2s\u001b[0m 11ms/step\n",
            "\n",
            "Classification Report:\n",
            "              precision    recall  f1-score   support\n",
            "\n",
            "           0       1.00      1.00      1.00       967\n",
            "           1       1.00      0.99      0.99       967\n",
            "           2       0.98      1.00      0.99       967\n",
            "\n",
            "    accuracy                           0.99      2901\n",
            "   macro avg       0.99      0.99      0.99      2901\n",
            "weighted avg       0.99      0.99      0.99      2901\n",
            "\n"
          ]
        },
        {
          "output_type": "display_data",
          "data": {
            "text/plain": [
              "<Figure size 640x480 with 2 Axes>"
            ],
            "image/png": "[encoded data removed]"
          },
          "metadata": {}
        },
        {
          "output_type": "stream",
          "name": "stdout",
          "text": [
            "The two classes the model is most often confused between are: (np.int64(1), np.int64(2)) with 210 occurrences among low-confidence predictions.\n",
            "Number of samples where the model was NOT 99.0% confident: 220\n",
            "\n"
          ]
        }
      ],
      "execution_count": 86
    },
    {
      "cell_type": "code",
      "source": [
        "# Generate submission\n",
        "generate_submission(best_model, X_test, y_test, output_file='tuner.csv')"
      ],
      "metadata": {
        "colab": {
          "base_uri": "https://localhost:8080/"
        },
        "id": "mcFp_mZuOGBp",
        "outputId": "b008875c-5859-45b5-8f5d-4b2211f054d7",
        "trusted": true
      },
      "outputs": [
        {
          "output_type": "stream",
          "name": "stdout",
          "text": [
            "\u001b[1m4/4\u001b[0m \u001b[32m━━━━━━━━━━━━━━━━━━━━\u001b[0m\u001b[37m\u001b[0m \u001b[1m1s\u001b[0m 271ms/step\n",
            "Submission saved to tuner.csv\n"
          ]
        }
      ],
      "execution_count": 87
    }
  ]
}